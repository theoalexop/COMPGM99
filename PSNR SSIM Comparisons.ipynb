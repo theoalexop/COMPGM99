{
 "cells": [
  {
   "cell_type": "code",
   "execution_count": null,
   "metadata": {
    "collapsed": true
   },
   "outputs": [],
   "source": [
    "import nibabel as nib\n",
    "import numpy as np\n",
    "import os\n",
    "from skimage.measure import compare_ssim as cssim\n",
    "from skimage.measure import compare_psnr as cpsnr"
   ]
  },
  {
   "cell_type": "code",
   "execution_count": null,
   "metadata": {},
   "outputs": [],
   "source": [
    "# Data Paths for Ground Truth, Degraded, and Super-resolved Test Batch\n",
    "input_path_gt = 'D:/Data/IXI-T1-GT/'\n",
    "input_path_degr = 'D:/Data/IXI-T1-DEGR/'\n",
    "input_path_sr = 'D:/Data/IXI-T1-SR/'\n",
    "\n",
    "# Lists for PSNR and SSIM comparison between Ground Truth - Degraded and \n",
    "# Ground Truth - Super-resolved volumetric images\n",
    "bicubic_psnr_gt_degr = []\n",
    "bicubic_ssim_gt_degr = []\n",
    "bicubic_psnr_gt_sr = []\n",
    "bicubic_ssim_gt_sr = []\n",
    "\n",
    "for root, dirs, filenames in os.walk(input_path_degr):\n",
    "    for f in filenames:\n",
    "        print(f)\n",
    "\n",
    "        # Loading Degraded volumetric image\n",
    "        fullpath_degr = os.path.join(input_path_degr, f)\n",
    "        img_degr = nib.load(fullpath_degr)\n",
    "        data_degr = img_degr.get_data().astype(np.float64)\n",
    "\n",
    "        # Loading Ground Truth volumetric image\n",
    "        fullpath_gt = os.path.join(input_path_gt,f)\n",
    "        img_gt = nib.load(fullpath_gt)\n",
    "        data_gt = img_gt.get_data().astype(np.float64)        \n",
    "\n",
    "        # Computation of PSNR and SSIM between Ground Truth and Degraded volumetric images\n",
    "        bicubic_psnr_gt_degr.append(cpsnr(data_gt, data_degr, data_range = np.amax(data_gt) - np.amin(data_gt)))\n",
    "        bicubic_ssim_gt_degr.append(cssim(data_gt, data_degr, data_range = np.amax(data_gt) - np.amin(data_gt), gaussian_weights = True, sigma = 1.5, use_sample_covariance = False))   \n",
    "\n",
    "        # Loading Super-resolved volumetric image\n",
    "        f2 = f.replace('-', '')[:-7]+'_niftynet_out.nii.gz'        \n",
    "        fullpath_sr = os.path.join(input_path_sr, f2)\n",
    "        img_sr = nib.load(fullpath_sr)\n",
    "        data_sr = img_sr.get_data().astype(np.float64)[:,:,:,0,0]      \n",
    "\n",
    "        # Computation of PSNR and SSIM between Ground Truth and Super-resolved volumetric images\n",
    "        bicubic_psnr_gt_sr.append(cpsnr(data_gt, data_sr, data_range = np.amax(data_gt) - np.amin(data_gt)))\n",
    "        bicubic_ssim_gt_sr.append(cssim(data_gt, data_sr, data_range = np.amax(data_gt) - np.amin(data_gt), gaussian_weights = True, sigma = 1.5, use_sample_covariance = False))   \n",
    "\n",
    "print(np.mean(bicubic_psnr_gt_degr),np.mean(bicubic_ssim_gt_degr))\n",
    "print(np.mean(bicubic_psnr_gt_sr),np.mean(bicubic_ssim_gt_sr))"
   ]
  }
 ],
 "metadata": {
  "kernelspec": {
   "display_name": "Python 3",
   "language": "python",
   "name": "python3"
  },
  "language_info": {
   "codemirror_mode": {
    "name": "ipython",
    "version": 3
   },
   "file_extension": ".py",
   "mimetype": "text/x-python",
   "name": "python",
   "nbconvert_exporter": "python",
   "pygments_lexer": "ipython3",
   "version": "3.6.3"
  }
 },
 "nbformat": 4,
 "nbformat_minor": 2
}
