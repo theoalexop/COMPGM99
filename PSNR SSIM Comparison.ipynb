{
 "cells": [
  {
   "cell_type": "code",
   "execution_count": null,
   "metadata": {
    "collapsed": true
   },
   "outputs": [],
   "source": [
    "import nibabel as nib\n",
    "import numpy as np\n",
    "import os\n",
    "from skimage.measure import compare_ssim as cssim\n",
    "from skimage.measure import compare_psnr as cpsnr"
   ]
  },
  {
   "cell_type": "code",
   "execution_count": null,
   "metadata": {
    "collapsed": true
   },
   "outputs": [],
   "source": [
    "# Data paths for ground truth, degraded, and super-resolved test batch.\n",
    "input_path_gt = 'D:/Data/IXI-T1-GT/'\n",
    "input_path_degr = 'D:/Data/IXI-T1-DEGR/'\n",
    "input_path_sr = 'D:/Data/IXI-T1-SR/'\n",
    "\n",
    "# Lists for PSNR and SSIM comparisons between ground truth - degraded and \n",
    "# ground truth - super-resolved volumetric images.\n",
    "psnr_gt_degr = []\n",
    "ssim_gt_degr = []\n",
    "psnr_gt_sr = []\n",
    "ssim_gt_sr = []\n",
    "\n",
    "for root, dirs, filenames in os.walk(input_path_degr):\n",
    "    for f in filenames:\n",
    "        print(f)\n",
    "\n",
    "        # Loading of degraded volumetric image.\n",
    "        fullpath_degr = os.path.join(input_path_degr, f)\n",
    "        img_degr = nib.load(fullpath_degr)\n",
    "        data_degr = img_degr.get_data().astype(np.float64)\n",
    "\n",
    "        # Loading of ground truth volumetric image.\n",
    "        fullpath_gt = os.path.join(input_path_gt,f)\n",
    "        img_gt = nib.load(fullpath_gt)\n",
    "        data_gt = img_gt.get_data().astype(np.float64)        \n",
    "\n",
    "        # Computation of PSNR and SSIM between ground truth and degraded volumetric images.\n",
    "        # Settings \"gaussian_weights\", \"sigma\", and \"use_sample_covariance\" are set according to [1].\n",
    "        # [1] http://scikit-image.org/docs/dev/api/skimage.measure.html#skimage.measure.compare_ssim\n",
    "        psnr_gt_degr.append(cpsnr(data_gt, data_degr, data_range = np.amax(data_gt) - np.amin(data_gt)))\n",
    "        ssim_gt_degr.append(cssim(data_gt, data_degr, data_range = np.amax(data_gt) - np.amin(data_gt), gaussian_weights = True, sigma = 1.5, use_sample_covariance = False))   \n",
    "\n",
    "        # Loading of super-resolved volumetric image.\n",
    "        f2 = f.replace('-', '')[:-7]+'_niftynet_out.nii.gz'        \n",
    "        fullpath_sr = os.path.join(input_path_sr, f2)\n",
    "        img_sr = nib.load(fullpath_sr)\n",
    "        data_sr = img_sr.get_data().astype(np.float64)[:,:,:,0,0]      \n",
    "\n",
    "        # Computation of PSNR and SSIM between ground truth and super-resolved volumetric images.\n",
    "        psnr_gt_sr.append(cpsnr(data_gt, data_sr, data_range = np.amax(data_gt) - np.amin(data_gt)))\n",
    "        ssim_gt_sr.append(cssim(data_gt, data_sr, data_range = np.amax(data_gt) - np.amin(data_gt), gaussian_weights = True, sigma = 1.5, use_sample_covariance = False))   \n",
    "\n",
    "# Printing of average PSNR and SSIM for the respective comparisons.\n",
    "print(np.mean(psnr_gt_degr),np.mean(ssim_gt_degr))\n",
    "print(np.mean(psnr_gt_sr),np.mean(ssim_gt_sr))"
   ]
  }
 ],
 "metadata": {
  "kernelspec": {
   "display_name": "Python 3",
   "language": "python",
   "name": "python3"
  },
  "language_info": {
   "codemirror_mode": {
    "name": "ipython",
    "version": 3
   },
   "file_extension": ".py",
   "mimetype": "text/x-python",
   "name": "python",
   "nbconvert_exporter": "python",
   "pygments_lexer": "ipython3",
   "version": "3.6.3"
  }
 },
 "nbformat": 4,
 "nbformat_minor": 2
}
